{
 "cells": [
  {
   "cell_type": "markdown",
   "id": "6bf20d41",
   "metadata": {},
   "source": [
    "# <center>Ad Purchaser Classifier<center>"
   ]
  },
  {
   "cell_type": "code",
   "execution_count": null,
   "id": "a1a68714",
   "metadata": {},
   "outputs": [],
   "source": [
    "from pyspark.sql import SparkSession\n",
    "from pyspark.ml.feature import StringIndexer, VectorAssembler\n",
    "from pyspark.ml.classification import LogisticRegression\n",
    "from pyspark.ml.evaluation import BinaryClassificationEvaluator\n",
    "from pyspark.ml import Pipeline"
   ]
  },
  {
   "cell_type": "code",
   "execution_count": 3,
   "id": "a7b8c163",
   "metadata": {},
   "outputs": [],
   "source": [
    "spark = SparkSession.builder.appName(\"purchases_ads\").getOrCreate()"
   ]
  },
  {
   "cell_type": "code",
   "execution_count": 4,
   "id": "b6684881",
   "metadata": {},
   "outputs": [],
   "source": [
    "data = spark.read.option(\"header\", \"true\").option(\"inferSchema\", \"true\").csv(r\"C:\\Users\\Public\\DW\\ML\\Ads.csv\")"
   ]
  },
  {
   "cell_type": "code",
   "execution_count": 5,
   "id": "ec0c9546",
   "metadata": {},
   "outputs": [
    {
     "name": "stdout",
     "output_type": "stream",
     "text": [
      "root\n",
      " |-- Gender: string (nullable = true)\n",
      " |-- Age: integer (nullable = true)\n",
      " |-- EstimatedSalary: integer (nullable = true)\n",
      " |-- Purchased: integer (nullable = true)\n",
      "\n"
     ]
    }
   ],
   "source": [
    "data.printSchema()"
   ]
  },
  {
   "cell_type": "code",
   "execution_count": 6,
   "id": "2d8409f5",
   "metadata": {},
   "outputs": [
    {
     "name": "stdout",
     "output_type": "stream",
     "text": [
      "+------+---+---------------+---------+\n",
      "|Gender|Age|EstimatedSalary|Purchased|\n",
      "+------+---+---------------+---------+\n",
      "|  Male| 19|          19000|        0|\n",
      "|  Male| 35|          20000|        0|\n",
      "|Female| 26|          43000|        0|\n",
      "|Female| 27|          57000|        0|\n",
      "|  Male| 19|          76000|        0|\n",
      "|  Male| 27|          58000|        0|\n",
      "|Female| 27|          84000|        0|\n",
      "|Female| 32|         150000|        1|\n",
      "+------+---+---------------+---------+\n",
      "only showing top 8 rows\n",
      "\n"
     ]
    }
   ],
   "source": [
    "data.show(8)"
   ]
  },
  {
   "cell_type": "code",
   "execution_count": 7,
   "id": "8717b64e",
   "metadata": {},
   "outputs": [],
   "source": [
    "# converting categorical column \"Gender\" to numeric using StringIndexer\n",
    "indexer = StringIndexer(inputCol=\"Gender\", outputCol=\"GenderIndex\")\n",
    "data = indexer.fit(data).transform(data)"
   ]
  },
  {
   "cell_type": "code",
   "execution_count": 8,
   "id": "1b6c47fd",
   "metadata": {},
   "outputs": [],
   "source": [
    "# feature vector\n",
    "assembler = VectorAssembler(inputCols=[\"GenderIndex\", \"Age\", \"EstimatedSalary\"], outputCol=\"features\")\n",
    "data = assembler.transform(data)"
   ]
  },
  {
   "cell_type": "code",
   "execution_count": 9,
   "id": "9def716b",
   "metadata": {},
   "outputs": [],
   "source": [
    "# train & test split\n",
    "train_data, test_data = data.randomSplit([0.8, 0.2], seed=42)"
   ]
  },
  {
   "cell_type": "code",
   "execution_count": 10,
   "id": "9b02cde2",
   "metadata": {},
   "outputs": [],
   "source": [
    "# defining the classifier\n",
    "lr = LogisticRegression(featuresCol=\"features\", labelCol=\"Purchased\")"
   ]
  },
  {
   "cell_type": "code",
   "execution_count": 11,
   "id": "4177a4f7",
   "metadata": {},
   "outputs": [],
   "source": [
    "# training the model\n",
    "model = lr.fit(train_data)"
   ]
  },
  {
   "cell_type": "code",
   "execution_count": 12,
   "id": "64f8cf7a",
   "metadata": {},
   "outputs": [],
   "source": [
    "# making predictions on the test data\n",
    "predictions = model.transform(test_data)"
   ]
  },
  {
   "cell_type": "code",
   "execution_count": 13,
   "id": "2307fc61",
   "metadata": {},
   "outputs": [],
   "source": [
    "# evaluating the model\n",
    "evaluator = BinaryClassificationEvaluator(rawPredictionCol=\"rawPrediction\", labelCol=\"Purchased\")\n",
    "accuracy = evaluator.evaluate(predictions)"
   ]
  },
  {
   "cell_type": "code",
   "execution_count": 19,
   "id": "a3e8dbf3",
   "metadata": {},
   "outputs": [
    {
     "name": "stdout",
     "output_type": "stream",
     "text": [
      "Accuracy: 0.9568452380952381\n"
     ]
    }
   ],
   "source": [
    "# accuracy\n",
    "print(\"Accuracy:\", accuracy)"
   ]
  },
  {
   "cell_type": "code",
   "execution_count": 18,
   "id": "0b59f4db",
   "metadata": {},
   "outputs": [
    {
     "name": "stdout",
     "output_type": "stream",
     "text": [
      "Precision: 0.8983008495752123\n",
      "Recall: 0.896551724137931\n",
      "F1 Score: 0.891513658755038\n"
     ]
    }
   ],
   "source": [
    "from pyspark.ml.evaluation import MulticlassClassificationEvaluator\n",
    "\n",
    "evaluator = MulticlassClassificationEvaluator(labelCol=\"Purchased\", predictionCol=\"prediction\", metricName=\"accuracy\")\n",
    "\n",
    "# precision\n",
    "precision = evaluator.evaluate(predictions, {evaluator.metricName: \"weightedPrecision\"})\n",
    "\n",
    "# recall\n",
    "recall = evaluator.evaluate(predictions, {evaluator.metricName: \"weightedRecall\"})\n",
    "\n",
    "# F1 score\n",
    "f1_score = evaluator.evaluate(predictions, {evaluator.metricName: \"f1\"})\n",
    "\n",
    "print(\"Precision:\", precision)\n",
    "print(\"Recall:\", recall)\n",
    "print(\"F1 Score:\", f1_score)"
   ]
  },
  {
   "cell_type": "code",
   "execution_count": null,
   "id": "f10866b0",
   "metadata": {},
   "outputs": [],
   "source": []
  }
 ],
 "metadata": {
  "kernelspec": {
   "display_name": "Python 3 (ipykernel)",
   "language": "python",
   "name": "python3"
  },
  "language_info": {
   "codemirror_mode": {
    "name": "ipython",
    "version": 3
   },
   "file_extension": ".py",
   "mimetype": "text/x-python",
   "name": "python",
   "nbconvert_exporter": "python",
   "pygments_lexer": "ipython3",
   "version": "3.9.12"
  }
 },
 "nbformat": 4,
 "nbformat_minor": 5
}
