{
 "cells": [
  {
   "cell_type": "markdown",
   "id": "1b869c3f",
   "metadata": {},
   "source": [
    "# <center>Data mining for consumer knowledge<center>"
   ]
  },
  {
   "cell_type": "code",
   "execution_count": 1,
   "id": "c3384f75",
   "metadata": {},
   "outputs": [],
   "source": [
    "from pyspark.sql import SparkSession, Row\n",
    "from pyspark.sql import functions as func\n",
    "from pyspark.sql.window import Window\n",
    "from pyspark.sql.functions import split, col, expr, udf, concat_ws\n",
    "from pyspark.sql.types import StructType, StructField, StringType, ArrayType"
   ]
  },
  {
   "cell_type": "code",
   "execution_count": 2,
   "id": "4305414b",
   "metadata": {},
   "outputs": [],
   "source": [
    "spark = SparkSession.builder.appName(\"consumers_knowledge_discovery2\").getOrCreate()"
   ]
  },
  {
   "cell_type": "code",
   "execution_count": 3,
   "id": "090f49fd",
   "metadata": {},
   "outputs": [],
   "source": [
    "demographics = spark.read.option(\"header\", \"true\").option(\"inferSchema\", \"true\").csv(r\"C:\\Users\\Public\\DW\\___DEMOGRAPHICS\\demographics.csv\")\n",
    "smartwatch = spark.read.option(\"header\", \"true\").option(\"inferSchema\", \"true\").csv(r\"C:\\Users\\Public\\DW\\___MEDICAL\\smart_watch\\smart_watch.csv\")\n",
    "heart_rate = spark.read.option(\"header\", \"true\").option(\"inferSchema\", \"true\").csv(r\"C:\\Users\\Public\\DW\\___MEDICAL\\heart_rate\\heart_rate.csv\")\n",
    "symptoms = spark.read.option(\"header\", \"true\").option(\"inferSchema\", \"true\").csv(r\"C:\\Users\\Public\\DW\\___MEDICAL\\searched_symptoms\\symptoms.csv\")\n",
    "mental_health = spark.read.option(\"header\", \"true\").option(\"inferSchema\", \"true\").csv(r\"C:\\Users\\Public\\DW\\___MEDICAL\\mental_health_corpus\\mental_health.csv\")\n",
    "dating_app = spark.read.option(\"header\", \"true\").option(\"inferSchema\", \"true\").csv(r\"C:\\Users\\Public\\DW\\___PSYCHOGRAPHICS\\dating_app\\dating_app.csv\")\n",
    "reviews = spark.read.option(\"header\", \"true\").option(\"inferSchema\", \"true\").csv(r\"C:\\Users\\Public\\DW\\___PSYCHOGRAPHICS\\reviews\\reviews.csv\")\n",
    "reviews = spark.read.option(\"header\", \"true\").option(\"inferSchema\", \"true\").csv(r\"C:\\Users\\Public\\DW\\___PSYCHOGRAPHICS\\stress_level___\\stress_level.csv\")\n",
    "ads = spark.read.option(\"header\", \"true\").option(\"inferSchema\", \"true\").csv(r\"C:\\Users\\Public\\DW\\____BROWSER\\click on add prediction\\click_ads.csv\")\n",
    "cookies = spark.read.option(\"header\", \"true\").option(\"inferSchema\", \"true\").csv(r\"C:\\Users\\Public\\DW\\____BROWSER\\cookies\\cookies.csv\")\n",
    "logs = spark.read.option(\"header\", \"true\").option(\"inferSchema\", \"true\").csv(r\"C:\\Users\\Public\\DW\\____BROWSER\\logs\\weblog.csv\")\n",
    "web_history = spark.read.option(\"header\", \"true\").option(\"inferSchema\", \"true\").csv(r\"C:\\Users\\Public\\DW\\____BROWSER\\web_history\\p_history\\web_history.csv\")\n",
    "bank_loan = spark.read.option(\"header\", \"true\").option(\"inferSchema\", \"true\").csv(r\"C:\\Users\\Public\\DW\\____FINANCIAL\\bank_loan\\bank_loan.csv\")\n",
    "credit_card = spark.read.option(\"header\", \"true\").option(\"inferSchema\", \"true\").csv(r\"C:\\Users\\Public\\DW\\____FINANCIAL\\credit_card\\credit_card.csv\")\n",
    "online_shoppings = spark.read.option(\"header\", \"true\").option(\"inferSchema\", \"true\").csv(r\"C:\\Users\\Public\\DW\\____FINANCIAL\\online_retail\\online_retail.csv\")"
   ]
  },
  {
   "cell_type": "markdown",
   "id": "a513b95d",
   "metadata": {},
   "source": [
    "### Marital status, age distribution, education, occupation and income information"
   ]
  },
  {
   "cell_type": "code",
   "execution_count": 8,
   "id": "e88daa60",
   "metadata": {},
   "outputs": [
    {
     "name": "stdout",
     "output_type": "stream",
     "text": [
      "+--------------+-----+\n",
      "|marital-status|count|\n",
      "+--------------+-----+\n",
      "|       Married| 4691|\n",
      "| Never-married| 3311|\n",
      "|      Divorced| 1385|\n",
      "|     Separated|  321|\n",
      "|       Widowed|  292|\n",
      "+--------------+-----+\n",
      "\n",
      "+---+-----+\n",
      "|age|count|\n",
      "+---+-----+\n",
      "| 31|  293|\n",
      "| 33|  277|\n",
      "| 35|  277|\n",
      "| 34|  272|\n",
      "| 25|  272|\n",
      "| 23|  271|\n",
      "| 37|  270|\n",
      "| 30|  267|\n",
      "| 32|  258|\n",
      "| 20|  257|\n",
      "+---+-----+\n",
      "only showing top 10 rows\n",
      "\n",
      "+------------+-----+\n",
      "|   education|count|\n",
      "+------------+-----+\n",
      "|     HS-grad| 3232|\n",
      "|Some-college| 2305|\n",
      "|   Bachelors| 1630|\n",
      "|     Masters|  531|\n",
      "|   Assoc-voc|  416|\n",
      "|        11th|  363|\n",
      "|  Assoc-acdm|  318|\n",
      "|        10th|  295|\n",
      "|     7th-8th|  205|\n",
      "| Prof-school|  174|\n",
      "+------------+-----+\n",
      "only showing top 10 rows\n",
      "\n",
      "+-----------------+-----+\n",
      "|occupation       |count|\n",
      "+-----------------+-----+\n",
      "|Prof-specialty   |1257 |\n",
      "|Exec-managerial  |1211 |\n",
      "|Craft-repair     |1207 |\n",
      "|Adm-clerical     |1187 |\n",
      "|Sales            |1179 |\n",
      "|Other-service    |1028 |\n",
      "|Machine-op-inspct|621  |\n",
      "|?                |586  |\n",
      "|Transport-moving |509  |\n",
      "|Handlers-cleaners|393  |\n",
      "+-----------------+-----+\n",
      "only showing top 10 rows\n",
      "\n",
      "+------+-----+\n",
      "|salary|count|\n",
      "+------+-----+\n",
      "| <=50K| 7621|\n",
      "|  >50K| 2379|\n",
      "+------+-----+\n",
      "\n"
     ]
    }
   ],
   "source": [
    "demographics.select(\"marital-status\").groupBy(\"marital-status\").count().orderBy(func.desc(\"count\")).show(10)\n",
    "demographics.select(\"age\").groupBy(\"age\").count().orderBy(func.desc(\"count\")).show(10)\n",
    "demographics.select(\"education\").groupBy(\"education\").count().orderBy(func.desc(\"count\")).show(10)\n",
    "demographics.select(\"occupation\").groupBy(\"occupation\").count().orderBy(func.desc(\"count\")).show(10, truncate = False)\n",
    "demographics.select(\"salary\").groupBy(\"salary\").count().orderBy(func.desc(\"count\")).show(10)"
   ]
  },
  {
   "cell_type": "markdown",
   "id": "1d4d50a0",
   "metadata": {},
   "source": [
    "### Religion & sexual orientation"
   ]
  },
  {
   "cell_type": "code",
   "execution_count": 10,
   "id": "edf8727a",
   "metadata": {},
   "outputs": [
    {
     "name": "stdout",
     "output_type": "stream",
     "text": [
      "+-----------------------------------------+-----+\n",
      "|religion                                 |count|\n",
      "+-----------------------------------------+-----+\n",
      "|agnosticism                              |472  |\n",
      "|other                                    |439  |\n",
      "|agnosticism but not too serious about it |424  |\n",
      "|agnosticism and laughing about it        |403  |\n",
      "|atheism                                  |384  |\n",
      "|catholicism but not too serious about it |382  |\n",
      "|atheism and laughing about it            |343  |\n",
      "|other and laughing about it              |342  |\n",
      "|christianity but not too serious about it|332  |\n",
      "|christianity                             |318  |\n",
      "+-----------------------------------------+-----+\n",
      "\n",
      "+-----------+-----+\n",
      "|orientation|count|\n",
      "+-----------+-----+\n",
      "|   straight| 8605|\n",
      "|        gay|  944|\n",
      "|   bisexual|  451|\n",
      "+-----------+-----+\n",
      "\n"
     ]
    }
   ],
   "source": [
    "result2 = dating_app.select(\"religion\").groupBy(\"religion\").count().orderBy(func.desc(\"count\"))\n",
    "if result2 is not None:\n",
    "    windowSpec = Window.orderBy(func.desc(\"count\"))\n",
    "    result_with_row_number = result2.withColumn(\"row_number\", func.row_number().over(windowSpec))\n",
    "    filtered_result = result_with_row_number.filter(\"row_number > 1\").limit(10)\n",
    "    filtered_result.select('religion', 'count').show(truncate = False)\n",
    "else:\n",
    "    print(\"No valid result obtained.\")\n",
    "    \n",
    "dating_app.select(\"orientation\").groupBy(\"orientation\").count().orderBy(func.desc(\"count\")).show(10)"
   ]
  },
  {
   "cell_type": "markdown",
   "id": "08d3f4a8",
   "metadata": {},
   "source": [
    "### Smartphone provider, preferred phone models & favorite time range for browsing the internet (relying on cookies)"
   ]
  },
  {
   "cell_type": "code",
   "execution_count": 11,
   "id": "0d2cbacd",
   "metadata": {},
   "outputs": [
    {
     "name": "stdout",
     "output_type": "stream",
     "text": [
      "+---------------------------------------------------+-----+\n",
      "|manufacturer_name                                  |count|\n",
      "+---------------------------------------------------+-----+\n",
      "|Apple                                              |3830 |\n",
      "|Samsung                                            |2531 |\n",
      "|Huawei                                             |1952 |\n",
      "|Xiaomi                                             |1435 |\n",
      "|Oppo                                               |48   |\n",
      "|Realme Chongqing Mobile Telecommunications Corp Ltd|46   |\n",
      "|Vivo                                               |38   |\n",
      "|Huawei Device Company Limited                      |37   |\n",
      "|Sony                                               |13   |\n",
      "|Asus                                               |13   |\n",
      "+---------------------------------------------------+-----+\n",
      "only showing top 10 rows\n",
      "\n",
      "+----------------+-----+\n",
      "|      model_name|count|\n",
      "+----------------+-----+\n",
      "|       iPhone 11|  916|\n",
      "|       iPhone XR|  462|\n",
      "|        iPhone 7|  364|\n",
      "|   Honor 10 Lite|  338|\n",
      "| Galaxy A51 Dual|  291|\n",
      "| Galaxy A50 Dual|  276|\n",
      "|        iPhone 8|  220|\n",
      "|        iPhone X|  198|\n",
      "|Redmi Note 8 Pro|  186|\n",
      "|   iPhone 8 Plus|  183|\n",
      "+----------------+-----+\n",
      "only showing top 10 rows\n",
      "\n",
      "+-----------+-----+\n",
      "|part_of_day|count|\n",
      "+-----------+-----+\n",
      "|        day| 3317|\n",
      "|    evening| 2972|\n",
      "|    morning| 2637|\n",
      "|      night| 1074|\n",
      "+-----------+-----+\n",
      "\n"
     ]
    }
   ],
   "source": [
    "cookies.select(\"manufacturer_name\").groupBy(\"manufacturer_name\").count().orderBy(func.desc(\"count\")).show(10, truncate = False)\n",
    "cookies.select(\"model_name\").groupBy(\"model_name\").count().orderBy(func.desc(\"count\")).show(10)\n",
    "cookies.select(\"part_of_day\").groupBy(\"part_of_day\").count().orderBy(func.desc(\"count\")).show(10)"
   ]
  },
  {
   "cell_type": "markdown",
   "id": "62823197",
   "metadata": {},
   "source": [
    "### Bank loan duration & amount; purpose of bank loan"
   ]
  },
  {
   "cell_type": "code",
   "execution_count": 12,
   "id": "17983085",
   "metadata": {},
   "outputs": [
    {
     "name": "stdout",
     "output_type": "stream",
     "text": [
      "+-------+------------------+-----------------+\n",
      "|summary|          duration|    credit amount|\n",
      "+-------+------------------+-----------------+\n",
      "|  count|              1000|             1000|\n",
      "|   mean|            20.903|         3271.258|\n",
      "| stddev|12.058814452756371|2822.736875960441|\n",
      "|    min|                 4|              250|\n",
      "|    max|                72|            18424|\n",
      "+-------+------------------+-----------------+\n",
      "\n",
      "+-------------------+-----+\n",
      "|            purpose|count|\n",
      "+-------------------+-----+\n",
      "|                car|  337|\n",
      "|        electronics|  280|\n",
      "|furniture/equipment|  181|\n",
      "|           business|   97|\n",
      "|          education|   59|\n",
      "|            repairs|   22|\n",
      "|    vacation/others|   12|\n",
      "|domestic appliances|   12|\n",
      "+-------------------+-----+\n",
      "\n"
     ]
    }
   ],
   "source": [
    "bank_loan.select(\"duration\", \"credit amount\").describe().show()\n",
    "bank_loan.select(\"purpose\").groupBy(\"purpose\").count().orderBy(func.desc(\"count\")).show(10)"
   ]
  },
  {
   "cell_type": "markdown",
   "id": "dc3da84a",
   "metadata": {},
   "source": [
    "### Alcohol consumption & diet habits"
   ]
  },
  {
   "cell_type": "code",
   "execution_count": 14,
   "id": "916b7e2c",
   "metadata": {},
   "outputs": [
    {
     "name": "stdout",
     "output_type": "stream",
     "text": [
      "+-----------+-----+\n",
      "|     drinks|count|\n",
      "+-----------+-----+\n",
      "|   socially| 7014|\n",
      "|     rarely|  957|\n",
      "|      often|  854|\n",
      "|       null|  532|\n",
      "| not at all|  527|\n",
      "| very often|   62|\n",
      "|desperately|   54|\n",
      "+-----------+-----+\n",
      "\n",
      "+-------------------+-----+\n",
      "|               diet|count|\n",
      "+-------------------+-----+\n",
      "|    mostly anything| 2761|\n",
      "|           anything| 1113|\n",
      "|  strictly anything|  867|\n",
      "|  mostly vegetarian|  602|\n",
      "|       mostly other|  167|\n",
      "|strictly vegetarian|  141|\n",
      "|         vegetarian|  116|\n",
      "|     strictly other|   65|\n",
      "|              other|   57|\n",
      "|       mostly vegan|   55|\n",
      "+-------------------+-----+\n",
      "\n"
     ]
    }
   ],
   "source": [
    "dating_app.select(\"drinks\").groupBy(\"drinks\").count().orderBy(func.desc(\"count\")).show(10)\n",
    "\n",
    "result = dating_app.select(\"diet\").groupBy(\"diet\").count().orderBy(func.desc(\"count\"))\n",
    "if result is not None:\n",
    "    windowSpec = Window.orderBy(func.desc(\"count\"))\n",
    "    result_with_row_number = result.withColumn(\"row_number\", func.row_number().over(windowSpec))\n",
    "    filtered_result = result_with_row_number.filter(\"row_number > 1\").limit(10)\n",
    "    filtered_result.select('diet', 'count').show()\n",
    "else:\n",
    "    print(\"No valid result obtained.\")"
   ]
  },
  {
   "cell_type": "markdown",
   "id": "e4826184",
   "metadata": {},
   "source": [
    "### Individuals with excessive eating habits & individuals who eat too little"
   ]
  },
  {
   "cell_type": "code",
   "execution_count": 17,
   "id": "a0c1bb3e",
   "metadata": {},
   "outputs": [
    {
     "name": "stdout",
     "output_type": "stream",
     "text": [
      "+-------+--------+\n",
      "|user_id|calories|\n",
      "+-------+--------+\n",
      "|     20|    4552|\n",
      "|     20|    4546|\n",
      "|     21|    4900|\n",
      "|     32|    4547|\n",
      "+-------+--------+\n",
      "\n",
      "+-------+--------+\n",
      "|user_id|calories|\n",
      "+-------+--------+\n",
      "|     25|     120|\n",
      "|     28|       0|\n",
      "|     30|       0|\n",
      "+-------+--------+\n",
      "\n"
     ]
    }
   ],
   "source": [
    "# Z-score\n",
    "mean_val = smartwatch.selectExpr('avg(calories)').collect()[0][0]\n",
    "stddev_val = smartwatch.selectExpr('stddev(calories)').collect()[0][0]\n",
    "\n",
    "df_with_zscore = smartwatch.withColumn('zscore', (col('calories') - mean_val) / stddev_val)\n",
    "\n",
    "# Filtering the outliers\n",
    "upper_outliers = df_with_zscore.filter(col('zscore') > 3)\n",
    "lower_outliers = df_with_zscore.filter(col('zscore') < -3)\n",
    "\n",
    "upper_outliers.select('user_id', 'calories').show()\n",
    "lower_outliers.select('user_id', 'calories').show()"
   ]
  },
  {
   "cell_type": "markdown",
   "id": "e600ef86",
   "metadata": {},
   "source": [
    "### Finding neighbors (relying on zipcode) "
   ]
  },
  {
   "cell_type": "code",
   "execution_count": 15,
   "id": "a91470bc",
   "metadata": {},
   "outputs": [
    {
     "name": "stdout",
     "output_type": "stream",
     "text": [
      "+-------+-----+\n",
      "|zipcode|count|\n",
      "+-------+-----+\n",
      "|  85323|    4|\n",
      "|  57566|    4|\n",
      "|  78226|    4|\n",
      "|  45359|    4|\n",
      "|  98148|    4|\n",
      "|  68007|    4|\n",
      "|   5089|    4|\n",
      "|  38359|    3|\n",
      "|  67556|    3|\n",
      "|  74052|    3|\n",
      "+-------+-----+\n",
      "only showing top 10 rows\n",
      "\n"
     ]
    }
   ],
   "source": [
    "demographics.select(\"zipcode\").groupBy(\"zipcode\").count().orderBy(func.desc(\"count\")).show(10)"
   ]
  },
  {
   "cell_type": "markdown",
   "id": "cce19a01",
   "metadata": {},
   "source": [
    "### Individuals who are most likely sick and unable to move, restricted to bed rest"
   ]
  },
  {
   "cell_type": "code",
   "execution_count": 18,
   "id": "f63f49b7",
   "metadata": {},
   "outputs": [
    {
     "name": "stdout",
     "output_type": "stream",
     "text": [
      "+-------+--------------+\n",
      "|user_id|total_distance|\n",
      "+-------+--------------+\n",
      "|      4|           0.0|\n",
      "|     12|           0.0|\n",
      "|     12|           0.0|\n",
      "|     13|           0.0|\n",
      "|     18|           0.0|\n",
      "|     20|           0.0|\n",
      "|     21|           0.0|\n",
      "|     21|           0.0|\n",
      "|     21|           0.0|\n",
      "|     21|           0.0|\n",
      "+-------+--------------+\n",
      "only showing top 10 rows\n",
      "\n"
     ]
    }
   ],
   "source": [
    "smartwatch.createOrReplaceTempView(\"smartwatch\")\n",
    "results = smartwatch.select(\"user_id\", \"total_distance\").where(func.col(\"total_distance\") == 0)\n",
    "results.show(10)"
   ]
  },
  {
   "cell_type": "markdown",
   "id": "dd58d49f",
   "metadata": {},
   "source": [
    "#### Individuals who are highly likely to be infected with COVID"
   ]
  },
  {
   "cell_type": "code",
   "execution_count": 19,
   "id": "3a1d71ab",
   "metadata": {},
   "outputs": [
    {
     "name": "stdout",
     "output_type": "stream",
     "text": [
      "+-------+---------------------------------------------------------+\n",
      "|user_id|symptoms                                                 |\n",
      "+-------+---------------------------------------------------------+\n",
      "|70     |['tiredness', ' high_fever', ' loss_of_taste', 'cough']  |\n",
      "|71     |[' high_fever', ' loss_of_taste', ' cough', ' tiredness']|\n",
      "|72     |['cough', ' high_fever', ' tiredness', ' loss_of_taste'] |\n",
      "|73     |['loss_of_taste', ' tiredness', ' high_fever', ' cough'] |\n",
      "|74     |[' high_fever', ' cough', ' tiredness', ' loss_of_taste']|\n",
      "|77     |['loss_of_taste', ' cough', ' tiredness', 'high_fever']  |\n",
      "|78     |[' high_fever', ' tiredness', ' cough', ' loss_of_taste']|\n",
      "+-------+---------------------------------------------------------+\n",
      "\n"
     ]
    }
   ],
   "source": [
    "symptoms.createOrReplaceTempView(\"symptoms\")\n",
    "query = symptoms.filter(col(\"symptoms\").like(\"%tiredness%\")) \\\n",
    "    .filter(col(\"symptoms\").like(\"%high_fever%\")) \\\n",
    "    .filter(col(\"symptoms\").like(\"%cough%\")) \\\n",
    "    .filter(col(\"symptoms\").like(\"%loss_of_taste%\"))\n",
    "query.select('user_id', 'symptoms').show(truncate = False)"
   ]
  },
  {
   "cell_type": "markdown",
   "id": "230f13f3",
   "metadata": {},
   "source": [
    "### Favourite faceboook & youtube pages of particular consumers"
   ]
  },
  {
   "cell_type": "code",
   "execution_count": 20,
   "id": "fb891b6c",
   "metadata": {},
   "outputs": [
    {
     "name": "stdout",
     "output_type": "stream",
     "text": [
      "+-------+--------------------+----------------+---------------+-----------+---------+-------+\n",
      "|hist_id|                 url|     first_visit|     last_visit|click_count|frequency|user_id|\n",
      "+-------+--------------------+----------------+---------------+-----------+---------+-------+\n",
      "|      1|https://web.faceb...|  3/17/2023 1:12|3/29/2023 22:30|        177|    56640|      1|\n",
      "|     18|https://web.faceb...| 3/13/2023 10:09| 3/29/2023 2:22|         67|    11725|      1|\n",
      "|     24|http://facebook.com/|12/12/2022 11:41|3/19/2023 23:42|         28|     8404|      1|\n",
      "|     61|http://www.facebo...| 3/22/2023 17:06|3/29/2023 22:30|         97|     3880|      1|\n",
      "|     73|https://www.faceb...|  2/22/2023 4:14|3/29/2023 22:30|        133|     3325|      1|\n",
      "|    318|https://web.faceb...| 9/13/2022 17:04| 3/27/2023 0:13|         22|     1223|      1|\n",
      "|    470|https://web.faceb...| 11/23/2022 1:08|3/23/2023 17:27|         23|     1143|      1|\n",
      "|    658|https://web.faceb...| 3/29/2022 19:24|2/18/2023 11:46|         20|      605|      1|\n",
      "|    663|https://web.faceb...|  3/7/2022 11:18| 2/1/2023 12:53|          9|      588|      1|\n",
      "|    667|https://web.faceb...|  3/11/2022 8:11| 2/7/2023 11:46|         13|      573|      1|\n",
      "|    684|https://web.faceb...| 3/29/2022 12:59|3/24/2023 22:57|         14|      524|      1|\n",
      "|    728|https://web.faceb...|  2/3/2023 13:11|3/24/2023 23:11|         12|      448|      1|\n",
      "|    770|https://web.faceb...|  1/27/2023 9:06|3/28/2023 20:37|         12|      344|      1|\n",
      "+-------+--------------------+----------------+---------------+-----------+---------+-------+\n",
      "\n"
     ]
    }
   ],
   "source": [
    "web_history.createOrReplaceTempView(\"web_history\")\n",
    "average_frequency = web_history.selectExpr(\"AVG(frequency)\").collect()[0][0]\n",
    "query = web_history.filter((col(\"user_id\") == 1) &\n",
    "                           (col(\"url\").like(\"%facebook%\")) &\n",
    "                           (col(\"frequency\") > average_frequency)) \\\n",
    "                   .orderBy(col(\"frequency\").desc())\n",
    "query.show()"
   ]
  },
  {
   "cell_type": "code",
   "execution_count": 21,
   "id": "50febc83",
   "metadata": {},
   "outputs": [
    {
     "name": "stdout",
     "output_type": "stream",
     "text": [
      "+-------+--------------------+---------------+---------------+-----------+---------+-------+\n",
      "|hist_id|                 url|    first_visit|     last_visit|click_count|frequency|user_id|\n",
      "+-------+--------------------+---------------+---------------+-----------+---------+-------+\n",
      "|     11|https://www.youtu...|1/29/2023 14:33|3/25/2023 14:48|         24|    14792|      1|\n",
      "|     69| http://youtube.com/|11/20/2022 6:00|2/21/2023 10:56|          9|     3430|      1|\n",
      "|    108|https://www.youtu...|  3/6/2023 2:10| 3/6/2023 13:12|          3|     2344|      1|\n",
      "|    217|https://www.youtu...|3/17/2023 15:05|3/17/2023 15:18|          2|     1716|      1|\n",
      "|    226|http://www.youtub...| 12/4/2022 6:40| 2/6/2023 14:20|          5|     1658|      1|\n",
      "|    297|https://www.youtu...| 2/6/2023 14:27|2/25/2023 11:05|         12|     1428|      1|\n",
      "|    348|https://www.googl...| 3/11/2023 5:39| 3/11/2023 5:39|          1|     1144|      1|\n",
      "|    345|https://www.googl...|3/11/2023 15:06|3/11/2023 15:06|          1|     1144|      1|\n",
      "|    476|https://www.youtu...|  7/9/2022 2:06| 2/16/2023 5:32|          7|     1065|      1|\n",
      "|    505|https://www.youtu...|2/25/2023 11:29| 2/26/2023 5:49|          2|      857|      1|\n",
      "|    566|https://www.googl...|2/21/2023 11:04|2/21/2023 11:04|          1|      817|      1|\n",
      "|    711|https://www.googl...|  2/8/2023 6:45|  2/8/2023 6:45|          1|      489|      1|\n",
      "+-------+--------------------+---------------+---------------+-----------+---------+-------+\n",
      "\n"
     ]
    }
   ],
   "source": [
    "web_history.createOrReplaceTempView(\"web_history\")\n",
    "average_frequency = web_history.selectExpr(\"AVG(frequency)\").collect()[0][0]\n",
    "query = web_history.filter((col(\"user_id\") == 1) &\n",
    "                           (col(\"url\").like(\"%youtube%\")) &\n",
    "                           (col(\"frequency\") > average_frequency)) \\\n",
    "                   .orderBy(col(\"frequency\").desc())\n",
    "query.show()"
   ]
  },
  {
   "cell_type": "code",
   "execution_count": null,
   "id": "d1149410",
   "metadata": {},
   "outputs": [],
   "source": []
  }
 ],
 "metadata": {
  "kernelspec": {
   "display_name": "Python 3 (ipykernel)",
   "language": "python",
   "name": "python3"
  },
  "language_info": {
   "codemirror_mode": {
    "name": "ipython",
    "version": 3
   },
   "file_extension": ".py",
   "mimetype": "text/x-python",
   "name": "python",
   "nbconvert_exporter": "python",
   "pygments_lexer": "ipython3",
   "version": "3.9.12"
  }
 },
 "nbformat": 4,
 "nbformat_minor": 5
}
