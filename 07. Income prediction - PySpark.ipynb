{
 "cells": [
  {
   "cell_type": "markdown",
   "id": "d8d950ec",
   "metadata": {},
   "source": [
    "# <center>Income prediction<center>"
   ]
  },
  {
   "cell_type": "code",
   "execution_count": null,
   "id": "4e1963b5",
   "metadata": {},
   "outputs": [],
   "source": [
    "from pyspark.sql import SparkSession\n",
    "from pyspark.ml.feature import StringIndexer, VectorAssembler\n",
    "from pyspark.ml import Pipeline\n",
    "from pyspark.ml.classification import RandomForestClassifier\n",
    "from pyspark.ml.evaluation import MulticlassClassificationEvaluator"
   ]
  },
  {
   "cell_type": "code",
   "execution_count": 2,
   "id": "b29b454a",
   "metadata": {},
   "outputs": [],
   "source": [
    "spark = SparkSession.builder.appName(\"SalaryPrediction\").getOrCreate()"
   ]
  },
  {
   "cell_type": "code",
   "execution_count": 3,
   "id": "bbf36c20",
   "metadata": {},
   "outputs": [],
   "source": [
    "data = spark.read.csv(r\"C:\\Users\\Public\\DW\\ML\\salary.csv\", header=True, inferSchema=True)"
   ]
  },
  {
   "cell_type": "code",
   "execution_count": 4,
   "id": "d841e9be",
   "metadata": {},
   "outputs": [
    {
     "name": "stdout",
     "output_type": "stream",
     "text": [
      "root\n",
      " |-- gender: string (nullable = true)\n",
      " |-- age: integer (nullable = true)\n",
      " |-- workclass: string (nullable = true)\n",
      " |-- education: string (nullable = true)\n",
      " |-- occupation: string (nullable = true)\n",
      " |-- race: string (nullable = true)\n",
      " |-- salary: string (nullable = true)\n",
      "\n"
     ]
    }
   ],
   "source": [
    "data.printSchema()"
   ]
  },
  {
   "cell_type": "code",
   "execution_count": 5,
   "id": "4c77aee0",
   "metadata": {},
   "outputs": [
    {
     "name": "stdout",
     "output_type": "stream",
     "text": [
      "+-------+---+-----------------+-------------+------------------+------+------+\n",
      "| gender|age|        workclass|    education|        occupation|  race|salary|\n",
      "+-------+---+-----------------+-------------+------------------+------+------+\n",
      "|   Male| 41|        State-gov|    Doctorate|    Prof-specialty| White|  >50K|\n",
      "|   Male| 49|          Private|      Masters|    Prof-specialty| White| <=50K|\n",
      "|   Male| 51|          Private|      HS-grad| Machine-op-inspct| Black| <=50K|\n",
      "| Female| 20|          Private| Some-college| Handlers-cleaners| White| <=50K|\n",
      "|   Male| 69| Self-emp-not-inc|      HS-grad|             Sales| White| <=50K|\n",
      "+-------+---+-----------------+-------------+------------------+------+------+\n",
      "only showing top 5 rows\n",
      "\n"
     ]
    }
   ],
   "source": [
    "data.show(5)"
   ]
  },
  {
   "cell_type": "code",
   "execution_count": 6,
   "id": "2986764b",
   "metadata": {},
   "outputs": [],
   "source": [
    "# performing string indexing on the target variable (because it is categorical)\n",
    "label_indexer = StringIndexer(inputCol=\"salary\", outputCol=\"label\")"
   ]
  },
  {
   "cell_type": "code",
   "execution_count": 7,
   "id": "72424611",
   "metadata": {},
   "outputs": [],
   "source": [
    "# performing string indexing on the others categorical columns\n",
    "categorical_cols = ['gender', 'workclass', 'education', 'occupation', 'race']\n",
    "indexers = [StringIndexer(inputCol=col, outputCol=col+'_index').fit(data) for col in categorical_cols]"
   ]
  },
  {
   "cell_type": "code",
   "execution_count": 8,
   "id": "2008528f",
   "metadata": {},
   "outputs": [],
   "source": [
    "# feature vector\n",
    "feature_cols = [col+'_index' for col in categorical_cols] + ['age']\n",
    "assembler = VectorAssembler(inputCols=feature_cols, outputCol='features')"
   ]
  },
  {
   "cell_type": "code",
   "execution_count": 9,
   "id": "70303fbe",
   "metadata": {},
   "outputs": [],
   "source": [
    "# transforming\n",
    "pipeline = Pipeline(stages=indexers + [assembler, label_indexer])\n",
    "transformed_data = pipeline.fit(data).transform(data)"
   ]
  },
  {
   "cell_type": "code",
   "execution_count": 10,
   "id": "7925e55b",
   "metadata": {},
   "outputs": [],
   "source": [
    "# tran test spliting\n",
    "(training_data, testing_data) = transformed_data.randomSplit([0.95, 0.05], seed=42)"
   ]
  },
  {
   "cell_type": "code",
   "execution_count": 11,
   "id": "29a187a7",
   "metadata": {},
   "outputs": [],
   "source": [
    "# building and training the machine learning model\n",
    "rf = RandomForestClassifier(labelCol='label', featuresCol='features')\n",
    "model = rf.fit(training_data)"
   ]
  },
  {
   "cell_type": "code",
   "execution_count": 12,
   "id": "4b37e8f7",
   "metadata": {},
   "outputs": [],
   "source": [
    "# predictions on the testing data\n",
    "predictions = model.transform(testing_data)"
   ]
  },
  {
   "cell_type": "code",
   "execution_count": 13,
   "id": "71862fab",
   "metadata": {},
   "outputs": [
    {
     "name": "stdout",
     "output_type": "stream",
     "text": [
      "Accuracy: 0.8012422360248447\n"
     ]
    }
   ],
   "source": [
    "# evaluation\n",
    "evaluator = MulticlassClassificationEvaluator(labelCol='label', predictionCol='prediction', metricName='accuracy')\n",
    "accuracy = evaluator.evaluate(predictions)\n",
    "print(\"Accuracy:\", accuracy)"
   ]
  },
  {
   "cell_type": "code",
   "execution_count": 18,
   "id": "879c3790",
   "metadata": {},
   "outputs": [
    {
     "name": "stdout",
     "output_type": "stream",
     "text": [
      "Precision: 0.7944027874862367\n",
      "Recall: 0.8101153504880213\n",
      "F1 Score: 0.7959698741762633\n"
     ]
    }
   ],
   "source": [
    "from pyspark.ml.evaluation import MulticlassClassificationEvaluator\n",
    "\n",
    "evaluator = MulticlassClassificationEvaluator(labelCol='label', predictionCol='prediction')\n",
    "\n",
    "# precision\n",
    "precision = evaluator.evaluate(predictions, {evaluator.metricName: \"weightedPrecision\"})\n",
    "\n",
    "# recall\n",
    "recall = evaluator.evaluate(predictions, {evaluator.metricName: \"weightedRecall\"})\n",
    "\n",
    "# F1 score\n",
    "f1_score = evaluator.evaluate(predictions, {evaluator.metricName: \"f1\"})\n",
    "\n",
    "print(\"Precision:\", precision)\n",
    "print(\"Recall:\", recall)\n",
    "print(\"F1 Score:\", f1_score)"
   ]
  },
  {
   "cell_type": "code",
   "execution_count": null,
   "id": "2d644dc4",
   "metadata": {},
   "outputs": [],
   "source": []
  }
 ],
 "metadata": {
  "kernelspec": {
   "display_name": "Python 3 (ipykernel)",
   "language": "python",
   "name": "python3"
  },
  "language_info": {
   "codemirror_mode": {
    "name": "ipython",
    "version": 3
   },
   "file_extension": ".py",
   "mimetype": "text/x-python",
   "name": "python",
   "nbconvert_exporter": "python",
   "pygments_lexer": "ipython3",
   "version": "3.9.12"
  }
 },
 "nbformat": 4,
 "nbformat_minor": 5
}
